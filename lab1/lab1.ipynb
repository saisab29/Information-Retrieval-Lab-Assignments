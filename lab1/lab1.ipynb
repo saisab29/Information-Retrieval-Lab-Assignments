{
 "cells": [
  {
   "cell_type": "code",
   "execution_count": 3,
   "id": "d6693e0f",
   "metadata": {},
   "outputs": [],
   "source": [
    "import pandas as pd\n",
    "import re\n",
    "import nltk\n",
    "from nltk.corpus import stopwords\n",
    "from nltk.tokenize import word_tokenize\n",
    "from nltk.stem import PorterStemmer, WordNetLemmatizer\n",
    "from nltk.corpus import wordnet  # For more accurate lemmatization\n",
    "\n",
    "import matplotlib.pyplot as plt\n",
    "import numpy as np\n",
    "from collections import Counter"
   ]
  },
  {
   "cell_type": "code",
   "execution_count": 4,
   "id": "ebfe0dc6",
   "metadata": {},
   "outputs": [
    {
     "name": "stderr",
     "output_type": "stream",
     "text": [
      "[nltk_data] Downloading package stopwords to\n",
      "[nltk_data]     C:\\Users\\saisab31\\AppData\\Roaming\\nltk_data...\n",
      "[nltk_data]   Package stopwords is already up-to-date!\n",
      "[nltk_data] Downloading package punkt_tab to\n",
      "[nltk_data]     C:\\Users\\saisab31\\AppData\\Roaming\\nltk_data...\n",
      "[nltk_data]   Unzipping tokenizers\\punkt_tab.zip.\n",
      "[nltk_data] Downloading package wordnet to\n",
      "[nltk_data]     C:\\Users\\saisab31\\AppData\\Roaming\\nltk_data...\n",
      "[nltk_data] Downloading package averaged_perceptron_tagger to\n",
      "[nltk_data]     C:\\Users\\saisab31\\AppData\\Roaming\\nltk_data...\n",
      "[nltk_data]   Unzipping taggers\\averaged_perceptron_tagger.zip.\n"
     ]
    },
    {
     "data": {
      "text/plain": [
       "True"
      ]
     },
     "execution_count": 4,
     "metadata": {},
     "output_type": "execute_result"
    }
   ],
   "source": [
    "# Downloading necessary NLTK resources\n",
    "nltk.download(\"stopwords\")\n",
    "nltk.download(\"punkt_tab\")\n",
    "nltk.download(\"wordnet\")\n",
    "nltk.download(\"averaged_perceptron_tagger\")"
   ]
  },
  {
   "cell_type": "code",
   "execution_count": 5,
   "id": "d979d015",
   "metadata": {},
   "outputs": [],
   "source": [
    "reviews = [\n",
    "    \"<br> I LOVED this movie!!! The plot was 10/10, so exciting & the characters were AMAZING!!! :D\",\n",
    "    \"Terrible movie... Waste of $$ and time!! I won't recommend to ANYONE... http://badmovie.com\",\n",
    "    \"An average film -- some good moments, but overall it was sooo predictable and boring :(\",\n",
    "    \"Fantastic performance by the lead actor!!! Brilliant cinematography, though a bit too long...\",\n",
    "    \"Bad script, poor direction. 1234 Not worth watching at ALL <html>skip</html>.\",\n",
    "]"
   ]
  },
  {
   "cell_type": "code",
   "execution_count": 6,
   "id": "dc424794",
   "metadata": {},
   "outputs": [
    {
     "name": "stdout",
     "output_type": "stream",
     "text": [
      "                                              review\n",
      "0  <br> I LOVED this movie!!! The plot was 10/10,...\n",
      "1  Terrible movie... Waste of $$ and time!! I won...\n",
      "2  An average film -- some good moments, but over...\n",
      "3  Fantastic performance by the lead actor!!! Bri...\n",
      "4  Bad script, poor direction. 1234 Not worth wat...\n"
     ]
    }
   ],
   "source": [
    "# loading the dataset!\n",
    "df = pd.read_csv(\"movie_reviews_dirty.csv\")\n",
    "# Display the first few rows of the DataFrame\n",
    "print(df.head())"
   ]
  },
  {
   "cell_type": "code",
   "execution_count": null,
   "id": "841983c8",
   "metadata": {},
   "outputs": [
    {
     "name": "stdout",
     "output_type": "stream",
     "text": [
      "Original:   <br> I LOVED this movie!!! The plot was 10/10, so exciting & the characters were AMAZING!!! :D\n",
      "Cleaned:    br i loved this movie the plot was so exciting the characters were amazing d\n",
      "\n",
      "Original:   Terrible movie... Waste of $$ and time!! I won't recommend to ANYONE... http://badmovie.com\n",
      "Cleaned:    terrible movie waste of and time i wont recommend to anyone httpbadmoviecom\n",
      "\n",
      "Original:   An average film -- some good moments, but overall it was sooo predictable and boring :(\n",
      "Cleaned:    an average film some good moments but overall it was sooo predictable and boring\n",
      "\n",
      "Original:   Fantastic performance by the lead actor!!! Brilliant cinematography, though a bit too long...\n",
      "Cleaned:    fantastic performance by the lead actor brilliant cinematography though a bit too long\n",
      "\n",
      "Original:   Bad script, poor direction. 1234 Not worth watching at ALL <html>skip</html>.\n",
      "Cleaned:    bad script poor direction not worth watching at all htmlskiphtml\n",
      "\n",
      "Original:   Mediocre at best... acting was weak, editing sloppy, and soundtrack forgettable.\n",
      "Cleaned:    mediocre at best acting was weak editing sloppy and soundtrack forgettable\n",
      "\n"
     ]
    }
   ],
   "source": [
    "# 1. initial cleaning of text\n",
    "# function for initial cleaning of text\n",
    "def clean_text_initial(text):\n",
    "    # 1. Lowercasing\n",
    "    text = text.lower()\n",
    "\n",
    "    # 2. Remove Punctuation (keep only alphanumeric characters and whitespace)\n",
    "    # [^...] matches any character NOT in the set. \\w matches word characters (alphanumeric + underscore). \\s matches whitespace.\n",
    "    text = re.sub(r\"[^\\w\\s]\", \"\", text)\n",
    "\n",
    "    # 3. Remove Numbers (digits)\n",
    "    # \\d+ matches one or more digits.\n",
    "    text = re.sub(r\"\\d+\", \"\", text)\n",
    "\n",
    "    # 4. Normalize Whitespace (replace multiple spaces with a single space and strip leading/trailing)\n",
    "    # \\s+ matches one or more whitespace characters.\n",
    "    text = re.sub(r\"\\s+\", \" \", text).strip()\n",
    "    return text\n",
    "\n",
    "\n",
    "# apply the function to the 'review' column\n",
    "df[\"cleaned_data_initial\"] = df[\"review\"].apply(clean_text_initial)\n",
    "\n",
    "for i in range(6):\n",
    "    print(f\"Original:   {df['review'].iloc[i]}\")\n",
    "    print(f\"Cleaned:    {df['cleaned_data_initial'].iloc[i]}\\n\")"
   ]
  },
  {
   "cell_type": "code",
   "execution_count": null,
   "id": "39ab66f0",
   "metadata": {},
   "outputs": [
    {
     "name": "stdout",
     "output_type": "stream",
     "text": [
      "Cleaned:    br i loved this movie the plot was so exciting the characters were amazing d\n",
      "Tokenized:  ['br', 'i', 'loved', 'this', 'movie', 'the', 'plot', 'was', 'so', 'exciting', 'the', 'characters', 'were', 'amazing', 'd']\n",
      "\n",
      "Cleaned:    terrible movie waste of and time i wont recommend to anyone httpbadmoviecom\n",
      "Tokenized:  ['terrible', 'movie', 'waste', 'of', 'and', 'time', 'i', 'wont', 'recommend', 'to', 'anyone', 'httpbadmoviecom']\n",
      "\n",
      "Cleaned:    an average film some good moments but overall it was sooo predictable and boring\n",
      "Tokenized:  ['an', 'average', 'film', 'some', 'good', 'moments', 'but', 'overall', 'it', 'was', 'sooo', 'predictable', 'and', 'boring']\n",
      "\n",
      "Cleaned:    fantastic performance by the lead actor brilliant cinematography though a bit too long\n",
      "Tokenized:  ['fantastic', 'performance', 'by', 'the', 'lead', 'actor', 'brilliant', 'cinematography', 'though', 'a', 'bit', 'too', 'long']\n",
      "\n",
      "Cleaned:    bad script poor direction not worth watching at all htmlskiphtml\n",
      "Tokenized:  ['bad', 'script', 'poor', 'direction', 'not', 'worth', 'watching', 'at', 'all', 'htmlskiphtml']\n",
      "\n",
      "Cleaned:    mediocre at best acting was weak editing sloppy and soundtrack forgettable\n",
      "Tokenized:  ['mediocre', 'at', 'best', 'acting', 'was', 'weak', 'editing', 'sloppy', 'and', 'soundtrack', 'forgettable']\n",
      "\n"
     ]
    }
   ],
   "source": [
    "# 2. tokenization\n",
    "# tokenizing the cleaned reviews using NLTK's word_tokenize\n",
    "df[\"tokenized_review\"] = df[\"cleaned_data_initial\"].apply(word_tokenize)\n",
    "\n",
    "for i in range(6):\n",
    "    print(f\"Cleaned:    {df['cleaned_data_initial'].iloc[i]}\")\n",
    "    print(f\"Tokenized:  {df['tokenized_review'].iloc[i]}\\n\")"
   ]
  },
  {
   "cell_type": "code",
   "execution_count": null,
   "id": "10da4c4d",
   "metadata": {},
   "outputs": [
    {
     "name": "stdout",
     "output_type": "stream",
     "text": [
      "Tokenized:  ['br', 'i', 'loved', 'this', 'movie', 'the', 'plot', 'was', 'so', 'exciting', 'the', 'characters', 'were', 'amazing', 'd']\n",
      "Stopwords Removed: ['br', 'loved', 'movie', 'plot', 'exciting', 'characters', 'amazing']\n",
      "\n",
      "Tokenized:  ['terrible', 'movie', 'waste', 'of', 'and', 'time', 'i', 'wont', 'recommend', 'to', 'anyone', 'httpbadmoviecom']\n",
      "Stopwords Removed: ['terrible', 'movie', 'waste', 'time', 'wont', 'recommend', 'anyone', 'httpbadmoviecom']\n",
      "\n",
      "Tokenized:  ['an', 'average', 'film', 'some', 'good', 'moments', 'but', 'overall', 'it', 'was', 'sooo', 'predictable', 'and', 'boring']\n",
      "Stopwords Removed: ['average', 'film', 'good', 'moments', 'overall', 'sooo', 'predictable', 'boring']\n",
      "\n",
      "Tokenized:  ['fantastic', 'performance', 'by', 'the', 'lead', 'actor', 'brilliant', 'cinematography', 'though', 'a', 'bit', 'too', 'long']\n",
      "Stopwords Removed: ['fantastic', 'performance', 'lead', 'actor', 'brilliant', 'cinematography', 'though', 'bit', 'long']\n",
      "\n",
      "Tokenized:  ['bad', 'script', 'poor', 'direction', 'not', 'worth', 'watching', 'at', 'all', 'htmlskiphtml']\n",
      "Stopwords Removed: ['bad', 'script', 'poor', 'direction', 'worth', 'watching', 'htmlskiphtml']\n",
      "\n",
      "Tokenized:  ['mediocre', 'at', 'best', 'acting', 'was', 'weak', 'editing', 'sloppy', 'and', 'soundtrack', 'forgettable']\n",
      "Stopwords Removed: ['mediocre', 'best', 'acting', 'weak', 'editing', 'sloppy', 'soundtrack', 'forgettable']\n",
      "\n"
     ]
    }
   ],
   "source": [
    "# 3. removing stop words from the tokenized reviews\n",
    "\n",
    "# get stopwrords from NLTK\n",
    "stop_words = set(stopwords.words(\"english\"))\n",
    "\n",
    "\n",
    "# function to reomve stop words\n",
    "def remove_stopwords(tokens):\n",
    "    return [word for word in tokens if word not in stop_words]\n",
    "\n",
    "\n",
    "# apply the function to the 'tokenized_review' column\n",
    "df[\"stopwords_removed\"] = df[\"tokenized_review\"].apply(remove_stopwords)\n",
    "\n",
    "for i in range(6):\n",
    "    print(f\"Tokenized:  {df['tokenized_review'].iloc[i]}\")\n",
    "    print(f\"Stopwords Removed: {df['stopwords_removed'].iloc[i]}\\n\")"
   ]
  },
  {
   "cell_type": "code",
   "execution_count": 10,
   "id": "8926d7bb",
   "metadata": {},
   "outputs": [
    {
     "name": "stdout",
     "output_type": "stream",
     "text": [
      "Stopwords Removed: ['br', 'loved', 'movie', 'plot', 'exciting', 'characters', 'amazing']\n",
      "Stemmed: ['br', 'love', 'movi', 'plot', 'excit', 'charact', 'amaz']\n",
      "\n",
      "Stopwords Removed: ['terrible', 'movie', 'waste', 'time', 'wont', 'recommend', 'anyone', 'httpbadmoviecom']\n",
      "Stemmed: ['terribl', 'movi', 'wast', 'time', 'wont', 'recommend', 'anyon', 'httpbadmoviecom']\n",
      "\n",
      "Stopwords Removed: ['average', 'film', 'good', 'moments', 'overall', 'sooo', 'predictable', 'boring']\n",
      "Stemmed: ['averag', 'film', 'good', 'moment', 'overal', 'sooo', 'predict', 'bore']\n",
      "\n",
      "Stopwords Removed: ['fantastic', 'performance', 'lead', 'actor', 'brilliant', 'cinematography', 'though', 'bit', 'long']\n",
      "Stemmed: ['fantast', 'perform', 'lead', 'actor', 'brilliant', 'cinematographi', 'though', 'bit', 'long']\n",
      "\n",
      "Stopwords Removed: ['bad', 'script', 'poor', 'direction', 'worth', 'watching', 'htmlskiphtml']\n",
      "Stemmed: ['bad', 'script', 'poor', 'direct', 'worth', 'watch', 'htmlskiphtml']\n",
      "\n",
      "Stopwords Removed: ['mediocre', 'best', 'acting', 'weak', 'editing', 'sloppy', 'soundtrack', 'forgettable']\n",
      "Stemmed: ['mediocr', 'best', 'act', 'weak', 'edit', 'sloppi', 'soundtrack', 'forgett']\n",
      "\n"
     ]
    }
   ],
   "source": [
    "# 4. normalization a. Stemming\n",
    "\n",
    "# stemming function from nltk\n",
    "porter_stemmer = PorterStemmer()\n",
    "\n",
    "\n",
    "def apply_stemming(tokens):\n",
    "    return [porter_stemmer.stem(word) for word in tokens]\n",
    "\n",
    "\n",
    "df[\"stemmed_review\"] = df[\"stopwords_removed\"].apply(apply_stemming)\n",
    "\n",
    "for i in range(6):\n",
    "    print(f\"Stopwords Removed: {df['stopwords_removed'].iloc[i]}\")\n",
    "    print(f\"Stemmed: {df['stemmed_review'].iloc[i]}\\n\")"
   ]
  },
  {
   "cell_type": "code",
   "execution_count": 11,
   "id": "d01db3c8",
   "metadata": {},
   "outputs": [
    {
     "name": "stdout",
     "output_type": "stream",
     "text": [
      "Stopwords Removed: ['br', 'loved', 'movie', 'plot', 'exciting', 'characters', 'amazing']\n",
      "POS Lemmatized: ['br', 'loved', 'movie', 'plot', 'exciting', 'character', 'amazing']\n",
      "\n",
      "Stopwords Removed: ['terrible', 'movie', 'waste', 'time', 'wont', 'recommend', 'anyone', 'httpbadmoviecom']\n",
      "POS Lemmatized: ['terrible', 'movie', 'waste', 'time', 'wont', 'recommend', 'anyone', 'httpbadmoviecom']\n",
      "\n",
      "Stopwords Removed: ['average', 'film', 'good', 'moments', 'overall', 'sooo', 'predictable', 'boring']\n",
      "POS Lemmatized: ['average', 'film', 'good', 'moment', 'overall', 'sooo', 'predictable', 'boring']\n",
      "\n",
      "Stopwords Removed: ['fantastic', 'performance', 'lead', 'actor', 'brilliant', 'cinematography', 'though', 'bit', 'long']\n",
      "POS Lemmatized: ['fantastic', 'performance', 'lead', 'actor', 'brilliant', 'cinematography', 'though', 'bit', 'long']\n",
      "\n",
      "Stopwords Removed: ['bad', 'script', 'poor', 'direction', 'worth', 'watching', 'htmlskiphtml']\n",
      "POS Lemmatized: ['bad', 'script', 'poor', 'direction', 'worth', 'watching', 'htmlskiphtml']\n",
      "\n",
      "Stopwords Removed: ['mediocre', 'best', 'acting', 'weak', 'editing', 'sloppy', 'soundtrack', 'forgettable']\n",
      "POS Lemmatized: ['mediocre', 'best', 'acting', 'weak', 'editing', 'sloppy', 'soundtrack', 'forgettable']\n",
      "\n"
     ]
    }
   ],
   "source": [
    "# 4. normalization b. Lemmatization with POS tagging\n",
    "# lemmatization function from nltk\n",
    "lemmatizer = WordNetLemmatizer()\n",
    "\n",
    "\n",
    "def get_wordnet_pos(treebank_tag):\n",
    "    \"\"\"Converts treebank tags to wordnet tags.\"\"\"\n",
    "    if treebank_tag.startswith(\"J\"):\n",
    "        return wordnet.ADJ\n",
    "    elif treebank_tag.startswith(\"V\"):\n",
    "        return wordnet.VERB\n",
    "    elif treebank_tag.startswith(\"N\"):\n",
    "        return wordnet.NOUN\n",
    "    elif treebank_tag.startswith(\"R\"):\n",
    "        return wordnet.ADV\n",
    "    else:\n",
    "        return wordnet.NOUN  # Default to noun if no match found\n",
    "\n",
    "\n",
    "def apply_lemmatization(tokens):\n",
    "    return [lemmatizer.lemmatize(word, get_wordnet_pos(word)) for word in tokens]\n",
    "\n",
    "\n",
    "df[\"pos_lemmatized_review\"] = df[\"stopwords_removed\"].apply(apply_lemmatization)\n",
    "\n",
    "for i in range(6):\n",
    "    print(f\"Stopwords Removed: {df['stopwords_removed'].iloc[i]}\")\n",
    "    print(f\"POS Lemmatized: {df['pos_lemmatized_review'].iloc[i]}\\n\")"
   ]
  },
  {
   "cell_type": "code",
   "execution_count": 12,
   "id": "3de2ca51",
   "metadata": {},
   "outputs": [
    {
     "name": "stdout",
     "output_type": "stream",
     "text": [
      "Stopwords Removed: ['br', 'loved', 'movie', 'plot', 'exciting', 'characters', 'amazing']\n",
      "Lemmatized: ['br', 'loved', 'movie', 'plot', 'exciting', 'character', 'amazing']\n",
      "\n",
      "Stopwords Removed: ['terrible', 'movie', 'waste', 'time', 'wont', 'recommend', 'anyone', 'httpbadmoviecom']\n",
      "Lemmatized: ['terrible', 'movie', 'waste', 'time', 'wont', 'recommend', 'anyone', 'httpbadmoviecom']\n",
      "\n",
      "Stopwords Removed: ['average', 'film', 'good', 'moments', 'overall', 'sooo', 'predictable', 'boring']\n",
      "Lemmatized: ['average', 'film', 'good', 'moment', 'overall', 'sooo', 'predictable', 'boring']\n",
      "\n",
      "Stopwords Removed: ['fantastic', 'performance', 'lead', 'actor', 'brilliant', 'cinematography', 'though', 'bit', 'long']\n",
      "Lemmatized: ['fantastic', 'performance', 'lead', 'actor', 'brilliant', 'cinematography', 'though', 'bit', 'long']\n",
      "\n",
      "Stopwords Removed: ['bad', 'script', 'poor', 'direction', 'worth', 'watching', 'htmlskiphtml']\n",
      "Lemmatized: ['bad', 'script', 'poor', 'direction', 'worth', 'watching', 'htmlskiphtml']\n",
      "\n",
      "Stopwords Removed: ['mediocre', 'best', 'acting', 'weak', 'editing', 'sloppy', 'soundtrack', 'forgettable']\n",
      "Lemmatized: ['mediocre', 'best', 'acting', 'weak', 'editing', 'sloppy', 'soundtrack', 'forgettable']\n",
      "\n"
     ]
    }
   ],
   "source": [
    "# 4. normalization b. Lemmatization without POS tagging\n",
    "# lemmatization function from nltk\n",
    "lemmatizer = WordNetLemmatizer()\n",
    "\n",
    "\n",
    "def apply_lemmatization(tokens):\n",
    "    return [lemmatizer.lemmatize(word) for word in tokens]\n",
    "\n",
    "\n",
    "df[\"lemmatized_review\"] = df[\"stopwords_removed\"].apply(apply_lemmatization)\n",
    "\n",
    "for i in range(6):\n",
    "    print(f\"Stopwords Removed: {df['stopwords_removed'].iloc[i]}\")\n",
    "    print(f\"Lemmatized: {df['lemmatized_review'].iloc[i]}\\n\")"
   ]
  },
  {
   "cell_type": "code",
   "execution_count": 13,
   "id": "6382f679",
   "metadata": {},
   "outputs": [
    {
     "data": {
      "image/png": "[encoded data removed]",
      "text/plain": [
       "<Figure size 1000x600 with 1 Axes>"
      ]
     },
     "metadata": {},
     "output_type": "display_data"
    },
    {
     "name": "stdout",
     "output_type": "stream",
     "text": [
      "\n",
      "--- Top 10 Most Frequent Lemmatized Words ---\n",
      "Rank 1: 'loved' (Frequency: 2)\n",
      "Rank 2: 'movie' (Frequency: 2)\n",
      "Rank 3: 'film' (Frequency: 2)\n",
      "Rank 4: 'cinematography' (Frequency: 2)\n",
      "Rank 5: 'best' (Frequency: 2)\n",
      "Rank 6: 'br' (Frequency: 1)\n",
      "Rank 7: 'plot' (Frequency: 1)\n",
      "Rank 8: 'exciting' (Frequency: 1)\n",
      "Rank 9: 'character' (Frequency: 1)\n",
      "Rank 10: 'amazing' (Frequency: 1)\n",
      "\n",
      "--- Zipf's Law: Frequency * Rank for Top 5 ---\n",
      "Rank 1: 'loved' (Freq: 2) -> Freq * Rank: 2\n",
      "Rank 2: 'movie' (Freq: 2) -> Freq * Rank: 4\n",
      "Rank 3: 'film' (Freq: 2) -> Freq * Rank: 6\n",
      "Rank 4: 'cinematography' (Freq: 2) -> Freq * Rank: 8\n",
      "Rank 5: 'best' (Freq: 2) -> Freq * Rank: 10\n"
     ]
    }
   ],
   "source": [
    "# Zipf's law demo check\n",
    "all_lemmas = [word for sublist in df[\"lemmatized_review\"] for word in sublist]\n",
    "# Get word frequencies\n",
    "word_counts = Counter(all_lemmas)\n",
    "# Sort words by frequency in descending order\n",
    "sorted_word_counts = word_counts.most_common()\n",
    "\n",
    "# Extract frequencies and ranks\n",
    "frequencies = [count for word, count in sorted_word_counts]\n",
    "ranks = list(range(1, len(frequencies) + 1))\n",
    "\n",
    "# Check for empty lists to avoid log(0) errors\n",
    "if not frequencies:\n",
    "    print(\"No words found after preprocessing. Cannot calculate Zipf's Law.\")\n",
    "else:\n",
    "    # Plotting for Zipf's Law\n",
    "    plt.figure(figsize=(10, 6))\n",
    "    plt.loglog(ranks, frequencies, marker=\".\", linestyle=\"-\")\n",
    "    plt.title(\"Zipf's Law: Word Frequency vs. Rank (Log-Log Scale)\")\n",
    "    plt.xlabel(\"Rank of Word (r) - log scale\")\n",
    "    plt.ylabel(\"Frequency of Word (f) - log scale\")\n",
    "    plt.grid(True, which=\"both\", ls=\"-\")\n",
    "    plt.axvline(\n",
    "        x=10, color=\"r\", linestyle=\"--\", label=\"Top 10 Words\"\n",
    "    )  # Highlight top few words\n",
    "    plt.legend()\n",
    "    plt.show()\n",
    "\n",
    "    print(\"\\n--- Top 10 Most Frequent Lemmatized Words ---\")\n",
    "    for i, (word, count) in enumerate(sorted_word_counts[:10]):\n",
    "        print(f\"Rank {i + 1}: '{word}' (Frequency: {count})\")\n",
    "\n",
    "    # A quick check for the Zipfian relationship: f(r) * r should be roughly constant\n",
    "    print(\"\\n--- Zipf's Law: Frequency * Rank for Top 5 ---\")\n",
    "    for i in range(min(5, len(frequencies))):\n",
    "        rank = ranks[i]\n",
    "        freq = frequencies[i]\n",
    "        if rank > 0:  # Avoid division by zero\n",
    "            print(\n",
    "                f\"Rank {rank}: '{sorted_word_counts[i][0]}' (Freq: {freq}) -> Freq * Rank: {freq * rank}\"\n",
    "            )"
   ]
  },
  {
   "cell_type": "code",
   "execution_count": 15,
   "id": "8b549ffe",
   "metadata": {},
   "outputs": [
    {
     "data": {
      "image/png": "[encoded data removed]",
      "text/plain": [
       "<Figure size 1000x600 with 1 Axes>"
      ]
     },
     "metadata": {},
     "output_type": "display_data"
    },
    {
     "name": "stdout",
     "output_type": "stream",
     "text": [
      "\n",
      "--- Heaps' Law Observations ---\n",
      "Initial 100 tokens: 72 unique types\n",
      "Final 77 tokens: 72 unique types\n"
     ]
    }
   ],
   "source": [
    "# Heaps law demo check\n",
    "cumulative_tokens = []\n",
    "cumulative_types = []\n",
    "seen_types = set()\n",
    "token_count = 0\n",
    "\n",
    "for review_tokens in df[\"lemmatized_review\"]:\n",
    "    for token in review_tokens:\n",
    "        token_count += 1\n",
    "        seen_types.add(token)\n",
    "        cumulative_tokens.append(token_count)\n",
    "        cumulative_types.append(len(seen_types))\n",
    "\n",
    "# Plotting for Heaps' Law\n",
    "if not cumulative_tokens:\n",
    "    print(\"No tokens found. Cannot calculate Heaps' Law.\")\n",
    "else:\n",
    "    plt.figure(figsize=(10, 6))\n",
    "    plt.plot(cumulative_tokens, cumulative_types)\n",
    "    plt.title(\"Heaps' Law: Vocabulary Size vs. Corpus Size\")\n",
    "    plt.xlabel(\"Corpus Size (Number of Tokens)\")\n",
    "    plt.ylabel(\"Vocabulary Size (Number of Unique Types)\")\n",
    "    plt.grid(True, which=\"both\", ls=\"-\")\n",
    "    plt.xscale(\"log\")  # Log scale for x-axis to better show the sub-linear growth\n",
    "    plt.yscale(\"log\")  # Log scale for y-axis\n",
    "    plt.show()\n",
    "\n",
    "    # You can also try to fit the curve to estimate K and beta, but that's more advanced\n",
    "    # For now, just observing the curve is sufficient for understanding.\n",
    "\n",
    "print(\"\\n--- Heaps' Law Observations ---\")\n",
    "print(\n",
    "    f\"Initial 100 tokens: {cumulative_types[min(99, len(cumulative_types) - 1)]} unique types\"\n",
    ")\n",
    "print(f\"Final {cumulative_tokens[-1]} tokens: {cumulative_types[-1]} unique types\")"
   ]
  }
 ],
 "metadata": {
  "kernelspec": {
   "display_name": "Python 3",
   "language": "python",
   "name": "python3"
  },
  "language_info": {
   "codemirror_mode": {
    "name": "ipython",
    "version": 3
   },
   "file_extension": ".py",
   "mimetype": "text/x-python",
   "name": "python",
   "nbconvert_exporter": "python",
   "pygments_lexer": "ipython3",
   "version": "3.13.2"
  }
 },
 "nbformat": 4,
 "nbformat_minor": 5
}
