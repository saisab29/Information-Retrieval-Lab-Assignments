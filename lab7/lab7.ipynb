{
 "cells": [
  {
   "cell_type": "markdown",
   "id": "c005f90a",
   "metadata": {},
   "source": [
    "# Collaborative Filtering (CF)\n",
    "\n",
    "### Overview\n",
    "Collaborative Filtering is a popular technique in **recommender systems** that suggests items to a user based on **preferences of similar users** or **similar items**.  \n",
    "\n",
    "\n",
    "**User-User CF**  \n",
    "   - Finds users with similar tastes.  \n",
    "   - Recommends items liked by similar users that the target user hasn't interacted with.  \n",
    "   - Example: “People who liked X also liked Y.”\n",
    "\n",
    "---\n",
    "\n",
    "### Key Concepts\n",
    "- **Similarity Metrics**: Measure closeness between users or items.  \n",
    "  - Cosine similarity, Pearson correlation, Euclidean distance.  \n",
    "- **Rating Matrix**: Users as rows, items as columns, values as ratings.  \n",
    "- **Sparsity Problem**: Most users rate only a few items; methods like matrix factorization or neighborhood-based approaches help.\n",
    "\n",
    "---\n",
    "\n",
    "### Advantages\n",
    "- No domain knowledge required (learns purely from data).  \n",
    "- Captures latent preferences and trends.\n",
    "\n",
    "### Limitations\n",
    "- **Cold Start Problem**: New users or items with no ratings are hard to recommend.  \n",
    "- **Scalability**: Large datasets require efficient similarity computations.  \n"
   ]
  },
  {
   "cell_type": "code",
   "execution_count": 1,
   "id": "1fe994e0",
   "metadata": {},
   "outputs": [
    {
     "name": "stdout",
     "output_type": "stream",
     "text": [
      "Recommendations for User1:\n",
      "['Movie4']\n"
     ]
    }
   ],
   "source": [
    "import pandas as pd\n",
    "from sklearn.metrics.pairwise import cosine_similarity\n",
    "\n",
    "# Sample user-movie rating matrix\n",
    "ratings = pd.DataFrame({\n",
    "    \"Movie1\": [5, 4, 0, 1],\n",
    "    \"Movie2\": [4, 0, 0, 1],\n",
    "    \"Movie3\": [1, 1, 0, 5],\n",
    "    \"Movie4\": [0, 1, 5, 4]\n",
    "}, index=[\"User1\", \"User2\", \"User3\", \"User4\"])\n",
    "\n",
    "# Compute user-user similarity\n",
    "user_similarity = cosine_similarity(ratings)\n",
    "user_sim_df = pd.DataFrame(user_similarity, index=ratings.index, columns=ratings.index)\n",
    "\n",
    "# Recommendation function\n",
    "def recommend_movies(user, top_n=2):\n",
    "    # Find most similar user\n",
    "    similar_users = user_sim_df[user].sort_values(ascending=False).index[1:]\n",
    "    for sim_user in similar_users:\n",
    "        # Get movies rated by similar user but not by target user\n",
    "        unrated = ratings.loc[user][ratings.loc[user] == 0].index\n",
    "        rec_movies = ratings.loc[sim_user, unrated].sort_values(ascending=False)\n",
    "        if not rec_movies.empty:\n",
    "            return rec_movies.head(top_n).index.tolist()\n",
    "    return []\n",
    "\n",
    "# Example usage\n",
    "print(\"Recommendations for User1:\")\n",
    "print(recommend_movies(\"User1\"))"
   ]
  },
  {
   "cell_type": "markdown",
   "id": "cc38c2ac",
   "metadata": {},
   "source": [
    "# Content-Based Filtering\n",
    "\n",
    "Content-based filtering is a recommendation technique that suggests items to users based on the **features of the items** and the **user's previous interactions**. Instead of relying on other users' preferences (like in collaborative filtering), it focuses on the **content characteristics**.\n"
   ]
  },
  {
   "cell_type": "code",
   "execution_count": 1,
   "id": "c0581111",
   "metadata": {},
   "outputs": [
    {
     "name": "stdout",
     "output_type": "stream",
     "text": [
      "Recommendations for 'Mystic River':\n",
      "1    The Silent Garden\n",
      "2        Cosmic Voyage\n",
      "Name: title, dtype: object\n"
     ]
    }
   ],
   "source": [
    "from sklearn.feature_extraction.text import TfidfVectorizer\n",
    "from sklearn.metrics.pairwise import cosine_similarity\n",
    "import pandas as pd\n",
    "\n",
    "# Sample dataset with new books\n",
    "books = pd.DataFrame({\n",
    "    \"title\": [\"Mystic River\", \"The Silent Garden\", \"Cosmic Voyage\", \"Enchanted Tales\"],\n",
    "    \"description\": [\n",
    "        \"A gripping mystery set in a small town along a river\",\n",
    "        \"A romantic story unfolding in a hidden, tranquil garden\",\n",
    "        \"An exciting space journey exploring distant galaxies\",\n",
    "        \"A collection of magical stories and fantastical adventures\"\n",
    "    ]\n",
    "})\n",
    "\n",
    "# TF-IDF vectorization\n",
    "vectorizer = TfidfVectorizer(stop_words=\"english\")\n",
    "tfidf_matrix = vectorizer.fit_transform(books[\"description\"])\n",
    "\n",
    "# Cosine similarity\n",
    "cosine_sim = cosine_similarity(tfidf_matrix, tfidf_matrix)\n",
    "\n",
    "# Recommendation function\n",
    "def recommend_books(title, top_n=2):\n",
    "    idx = books[books[\"title\"] == title].index[0]\n",
    "    sim_scores = list(enumerate(cosine_sim[idx]))\n",
    "    sim_scores = sorted(sim_scores, key=lambda x: x[1], reverse=True)[1:top_n+1]\n",
    "    book_indices = [i[0] for i in sim_scores]\n",
    "    return books[\"title\"].iloc[book_indices]\n",
    "\n",
    "# Example usage\n",
    "print(\"Recommendations for 'Mystic River':\")\n",
    "print(recommend_books(\"Mystic River\"))\n"
   ]
  }
 ],
 "metadata": {
  "kernelspec": {
   "display_name": "venv",
   "language": "python",
   "name": "python3"
  },
  "language_info": {
   "codemirror_mode": {
    "name": "ipython",
    "version": 3
   },
   "file_extension": ".py",
   "mimetype": "text/x-python",
   "name": "python",
   "nbconvert_exporter": "python",
   "pygments_lexer": "ipython3",
   "version": "3.13.2"
  }
 },
 "nbformat": 4,
 "nbformat_minor": 5
}
