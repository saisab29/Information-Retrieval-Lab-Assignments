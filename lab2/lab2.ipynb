{
 "cells": [
  {
   "cell_type": "markdown",
   "id": "c63160d1",
   "metadata": {},
   "source": [
    "# Boolean Retrieval Model\n",
    "\n",
    "The **Boolean Retrieval Model** is one of the simplest information retrieval models. It uses **Boolean logic** to determine whether a document matches a user's query. The main idea is to represent documents and queries as sets of terms and then evaluate the query using **logical operators**.\n",
    "\n",
    "## Key Concepts\n",
    "\n",
    "- **Terms**: Words or tokens in documents.\n",
    "- **Document Representation**: Each document is represented as a set of terms (or a binary vector indicating presence/absence of each term).\n",
    "- **Query Representation**: The user's query is expressed using **Boolean operators**:\n",
    "  - `AND` – Returns documents that contain **all** specified terms.\n",
    "  - `OR` – Returns documents that contain **at least one** of the specified terms.\n",
    "  - `NOT` – Excludes documents that contain the specified term.\n",
    "\n",
    "## Example\n",
    "\n",
    "Suppose we have 3 documents:\n",
    "\n",
    "| Document | Content                                   |\n",
    "|----------|-------------------------------------------|\n",
    "| doc1     | \"information retrieval is essential\"     |\n",
    "| doc2     | \"broad research is ongoing\"              |\n",
    "| doc3     | \"topic modeling relates to information\" |\n",
    "\n",
    "A Boolean query:\n",
    "information AND retrieval\n",
    "\n",
    "- Matches `doc1` (contains both \"information\" and \"retrieval\").\n",
    "- Does **not** match `doc2` or `doc3`.\n",
    "\n",
    "Another query:\n",
    "\n",
    "\n",
    "- Matches `doc1`, `doc2`, and `doc3` (all contain at least one of the terms).\n",
    "\n",
    "## Advantages\n",
    "\n",
    "- Simple and easy to implement.\n",
    "- Clear, deterministic results.\n",
    "\n",
    "## Limitations\n",
    "\n",
    "- No ranking: All matching documents are treated equally.\n",
    "- Strict matching: Cannot handle partial relevance or approximate matches.\n",
    "- Queries must be precise, which can be difficult for users.\n",
    "\n",
    "\n"
   ]
  },
  {
   "cell_type": "code",
   "execution_count": 17,
   "id": "f38bb8fa",
   "metadata": {},
   "outputs": [
    {
     "name": "stdout",
     "output_type": "stream",
     "text": [
      "doc1: ['i', 'loved', 'this', 'movie', 'the', 'plot', 'was', 'exciting', 'and', 'the', 'characters', 'were', 'amazing']\n",
      "doc2: ['terrible', 'movie', 'waste', 'of', 'time', 'and', 'i', 'would', 'not', 'recommend', 'it']\n",
      "doc3: ['an', 'average', 'film', 'some', 'good', 'moments', 'but', 'overall', 'it', 'was', 'predictable']\n",
      "doc4: ['fantastic', 'performance', 'by', 'the', 'lead', 'actor', 'brilliant', 'cinematography']\n",
      "doc5: ['bad', 'script', 'poor', 'direction', 'not', 'worth', 'watching', 'at', 'all']\n"
     ]
    }
   ],
   "source": [
    "# Sample movie review documents\n",
    "docs = {\n",
    "    \"doc1\": \"I loved this movie the plot was exciting and the characters were amazing\",\n",
    "    \"doc2\": \"Terrible movie waste of time and I would not recommend it\",\n",
    "    \"doc3\": \"An average film some good moments but overall it was predictable\",\n",
    "    \"doc4\": \"Fantastic performance by the lead actor brilliant cinematography\",\n",
    "    \"doc5\": \"Bad script poor direction not worth watching at all\",\n",
    "}\n",
    "\n",
    "# Preprocessing: lowercase + split into tokens\n",
    "def preprocess(text):\n",
    "    return text.lower().split()\n",
    "\n",
    "# Apply preprocessing to all documents\n",
    "preprocessed_docs = {doc_id: preprocess(text) for doc_id, text in docs.items()}\n",
    "\n",
    "for doc_id, tokens in preprocessed_docs.items():\n",
    "    print(f\"{doc_id}: {tokens}\")\n"
   ]
  },
  {
   "cell_type": "code",
   "execution_count": 6,
   "id": "f0349725",
   "metadata": {},
   "outputs": [],
   "source": [
    "# Build term-document matrix (binary)\n",
    "terms = {}\n",
    "doc_list = list(docs.keys())\n",
    "\n",
    "for i, (doc, text) in enumerate(docs.items()):\n",
    "    words = set(preprocess(text))\n",
    "    for word in words:\n",
    "        if word not in terms:\n",
    "            terms[word] = [0] * len(docs)\n",
    "        terms[word][i] = 1"
   ]
  },
  {
   "cell_type": "code",
   "execution_count": 7,
   "id": "fccf153e",
   "metadata": {},
   "outputs": [
    {
     "name": "stdout",
     "output_type": "stream",
     "text": [
      "\n",
      "Term-Document Matrix:\n",
      "and            : [1, 1, 0, 0, 0]\n",
      "characters     : [1, 0, 0, 0, 0]\n",
      "the            : [1, 0, 0, 1, 0]\n",
      "movie          : [1, 1, 0, 0, 0]\n",
      "exciting       : [1, 0, 0, 0, 0]\n",
      "amazing        : [1, 0, 0, 0, 0]\n",
      "loved          : [1, 0, 0, 0, 0]\n",
      "was            : [1, 0, 1, 0, 0]\n",
      "i              : [1, 1, 0, 0, 0]\n",
      "were           : [1, 0, 0, 0, 0]\n",
      "this           : [1, 0, 0, 0, 0]\n",
      "plot           : [1, 0, 0, 0, 0]\n",
      "terrible       : [0, 1, 0, 0, 0]\n",
      "of             : [0, 1, 0, 0, 0]\n",
      "not            : [0, 1, 0, 0, 1]\n",
      "waste          : [0, 1, 0, 0, 0]\n",
      "recommend      : [0, 1, 0, 0, 0]\n",
      "it             : [0, 1, 1, 0, 0]\n",
      "would          : [0, 1, 0, 0, 0]\n",
      "time           : [0, 1, 0, 0, 0]\n",
      "an             : [0, 0, 1, 0, 0]\n",
      "some           : [0, 0, 1, 0, 0]\n",
      "but            : [0, 0, 1, 0, 0]\n",
      "predictable    : [0, 0, 1, 0, 0]\n",
      "film           : [0, 0, 1, 0, 0]\n",
      "moments        : [0, 0, 1, 0, 0]\n",
      "good           : [0, 0, 1, 0, 0]\n",
      "overall        : [0, 0, 1, 0, 0]\n",
      "average        : [0, 0, 1, 0, 0]\n",
      "lead           : [0, 0, 0, 1, 0]\n",
      "performance    : [0, 0, 0, 1, 0]\n",
      "brilliant      : [0, 0, 0, 1, 0]\n",
      "cinematography : [0, 0, 0, 1, 0]\n",
      "fantastic      : [0, 0, 0, 1, 0]\n",
      "by             : [0, 0, 0, 1, 0]\n",
      "actor          : [0, 0, 0, 1, 0]\n",
      "bad            : [0, 0, 0, 0, 1]\n",
      "poor           : [0, 0, 0, 0, 1]\n",
      "worth          : [0, 0, 0, 0, 1]\n",
      "at             : [0, 0, 0, 0, 1]\n",
      "watching       : [0, 0, 0, 0, 1]\n",
      "direction      : [0, 0, 0, 0, 1]\n",
      "all            : [0, 0, 0, 0, 1]\n",
      "script         : [0, 0, 0, 0, 1]\n"
     ]
    }
   ],
   "source": [
    "# Show matrix\n",
    "print(\"\\nTerm-Document Matrix:\")\n",
    "for term, vec in terms.items():\n",
    "    print(f\"{term:15}: {vec}\")\n",
    "\n",
    "\n",
    "# Evaluate boolean query (supports AND, OR, NOT)\n",
    "def evaluate(query):\n",
    "    query = query.lower().split()\n",
    "    result = None\n",
    "    operator = None\n",
    "    i = 0\n",
    "\n",
    "    while i < len(query):\n",
    "        if query[i] == \"not\":\n",
    "            word = query[i + 1]\n",
    "            vec = terms.get(word, [0] * len(docs))\n",
    "            vec = [1 - x for x in vec]\n",
    "            i += 2\n",
    "        elif query[i] in [\"and\", \"or\"]:\n",
    "            operator = query[i]\n",
    "            i += 1\n",
    "            continue\n",
    "        else:\n",
    "            word = query[i]\n",
    "            vec = terms.get(word, [0] * len(docs))\n",
    "            i += 1\n",
    "\n",
    "        if result is None:\n",
    "            result = vec\n",
    "        else:\n",
    "            if operator == \"and\":\n",
    "                result = [a & b for a, b in zip(result, vec)]\n",
    "            elif operator == \"or\":\n",
    "                result = [a | b for a, b in zip(result, vec)]\n",
    "\n",
    "    return result"
   ]
  },
  {
   "cell_type": "markdown",
   "id": "dcce1ed0",
   "metadata": {},
   "source": [
    "### Entering movie AND exciting should return doc1 as matching document"
   ]
  },
  {
   "cell_type": "code",
   "execution_count": 8,
   "id": "8161635c",
   "metadata": {},
   "outputs": [
    {
     "name": "stdout",
     "output_type": "stream",
     "text": [
      "\n",
      "Matching Documents: ['doc1']\n"
     ]
    }
   ],
   "source": [
    "# Get user query\n",
    "query = input(\"\\nEnter Boolean query (AND, OR, NOT): \")\n",
    "\n",
    "# Evaluate\n",
    "result_vec = evaluate(query)\n",
    "matches = [doc_list[i] for i, v in enumerate(result_vec) if v == 1]\n",
    "\n",
    "# Show result\n",
    "print(\"\\nMatching Documents:\", matches if matches else \"No match found.\")"
   ]
  },
  {
   "cell_type": "markdown",
   "id": "05e6fc46",
   "metadata": {},
   "source": [
    "# Term Weighting Mechanisms\n",
    "\n",
    "Term weighting is used in information retrieval to **measure the importance of a term in a document and across the corpus**. The most common weighting schemes are **TF**, **IDF**, and **TF-IDF**.\n",
    "\n",
    "---\n",
    "\n",
    "## 1. Term Frequency (TF)\n",
    "\n",
    "**Term Frequency (TF)** measures how often a term appears in a document.  \n",
    "- Higher frequency → term is more important in that document.  \n",
    "- Formula:\n",
    "\n",
    "\\[\n",
    "TF(t, d) = \\text{Number of times term } t \\text{ appears in document } d\n",
    "\\]\n",
    "\n",
    "Example:\n",
    "\n",
    "Document: `\"apple banana apple\"`  \n",
    "- TF(\"apple\") = 2  \n",
    "- TF(\"banana\") = 1  \n",
    "\n",
    "---\n",
    "\n",
    "## 2. Inverse Document Frequency (IDF)\n",
    "\n",
    "**Inverse Document Frequency (IDF)** measures how important a term is across all documents.  \n",
    "- Rare terms → higher IDF  \n",
    "- Common terms → lower IDF  \n",
    "\n",
    "Formula:\n",
    "\n",
    "\\[\n",
    "IDF(t) = \\log\\frac{N}{df_t}\n",
    "\\]\n",
    "\n",
    "Where:  \n",
    "- \\(N\\) = total number of documents  \n",
    "- \\(df_t\\) = number of documents containing term \\(t\\)\n",
    "\n",
    "Example:  \n",
    "- Term `\"apple\"` occurs in 3 out of 10 documents → IDF(\"apple\") = log(10/3)\n",
    "\n",
    "---\n",
    "\n",
    "## 3. TF-IDF\n",
    "\n",
    "**TF-IDF** combines TF and IDF to give a **weight indicating a term’s importance in a document relative to the corpus**.  \n",
    "\n",
    "\\[\n",
    "TF\\text{-}IDF(t, d) = TF(t, d) \\times IDF(t)\n",
    "\\]\n",
    "\n",
    "- High TF and high IDF → term is very important  \n",
    "- Helps to **rank documents** based on relevance to a query  \n",
    "\n",
    "Example:\n",
    "\n",
    "Document: `\"apple banana apple\"`  \n",
    "- TF(\"apple\") = 2  \n",
    "- IDF(\"apple\") = 1.2  \n",
    "- TF-IDF(\"apple\") = 2 × 1.2 = 2.4  \n",
    "\n",
    "---\n",
    "\n",
    "### Advantages\n",
    "\n",
    "- Balances term frequency within a document and rarity across corpus.\n",
    "- Essential for **Vector Space Model** and relevance ranking.\n",
    "\n"
   ]
  },
  {
   "cell_type": "code",
   "execution_count": 9,
   "id": "50fe57a6",
   "metadata": {},
   "outputs": [
    {
     "name": "stdout",
     "output_type": "stream",
     "text": [
      "Preprocessed docs:\n",
      "{'doc1': ['i', 'loved', 'this', 'movie', 'the', 'plot', 'was', 'exciting', 'and', 'the', 'characters', 'were', 'amazing'], 'doc2': ['terrible', 'movie', 'waste', 'of', 'time', 'and', 'i', 'would', 'not', 'recommend', 'it'], 'doc3': ['an', 'average', 'film', 'some', 'good', 'moments', 'but', 'overall', 'it', 'was', 'predictable'], 'doc4': ['fantastic', 'performance', 'by', 'the', 'lead', 'actor', 'brilliant', 'cinematography'], 'doc5': ['bad', 'script', 'poor', 'direction', 'not', 'worth', 'watching', 'at', 'all']}\n",
      "\n",
      "Vocabulary: ['actor', 'all', 'amazing', 'an', 'and', 'at', 'average', 'bad', 'brilliant', 'but', 'by', 'characters', 'cinematography', 'direction', 'exciting', 'fantastic', 'film', 'good', 'i', 'it', 'lead', 'loved', 'moments', 'movie', 'not', 'of', 'overall', 'performance', 'plot', 'poor', 'predictable', 'recommend', 'script', 'some', 'terrible', 'the', 'this', 'time', 'was', 'waste', 'watching', 'were', 'worth', 'would']\n"
     ]
    }
   ],
   "source": [
    "import math\n",
    "\n",
    "# Sample movie review documents\n",
    "documents = {\n",
    "    \"doc1\": \"I loved this movie the plot was exciting and the characters were amazing\",\n",
    "    \"doc2\": \"Terrible movie waste of time and I would not recommend it\",\n",
    "    \"doc3\": \"An average film some good moments but overall it was predictable\",\n",
    "    \"doc4\": \"Fantastic performance by the lead actor brilliant cinematography\",\n",
    "    \"doc5\": \"Bad script poor direction not worth watching at all\",\n",
    "}\n",
    "\n",
    "# Preprocessing: lowercase + split\n",
    "def preprocess(text):\n",
    "    return text.lower().split()\n",
    "\n",
    "# Build vocabulary\n",
    "vocab = set()\n",
    "preprocessed_docs = {}\n",
    "\n",
    "for name, text in documents.items():\n",
    "    tokens = preprocess(text)\n",
    "    preprocessed_docs[name] = tokens\n",
    "    vocab.update(tokens)\n",
    "\n",
    "print(f\"Preprocessed docs:\\n{preprocessed_docs}\\n\")\n",
    "vocab = sorted(list(vocab))\n",
    "print(\"Vocabulary:\", vocab)\n"
   ]
  },
  {
   "cell_type": "markdown",
   "id": "19613018",
   "metadata": {},
   "source": [
    "### Term Frequency (TF)\n"
   ]
  },
  {
   "cell_type": "code",
   "execution_count": 10,
   "id": "dfbfe53e",
   "metadata": {},
   "outputs": [],
   "source": [
    "def compute_tf(doc_tokens, vocab):\n",
    "    tf = {}\n",
    "    total_terms = len(doc_tokens)\n",
    "    for term in vocab:\n",
    "        tf[term] = doc_tokens.count(term) / total_terms\n",
    "    return tf"
   ]
  },
  {
   "cell_type": "markdown",
   "id": "e46583fc",
   "metadata": {},
   "source": [
    "### Inverse Document Frequency (IDF)"
   ]
  },
  {
   "cell_type": "code",
   "execution_count": 11,
   "id": "2eb0041f",
   "metadata": {},
   "outputs": [],
   "source": [
    "def compute_idf(all_docs, vocab):\n",
    "    N = len(all_docs)\n",
    "    idf = {}\n",
    "    for term in vocab:\n",
    "        df = sum(1 for doc in all_docs.values() if term in doc)\n",
    "        idf[term] = math.log(N / (df + 1)) + 1  # +1 smoothing\n",
    "    return idf"
   ]
  },
  {
   "cell_type": "markdown",
   "id": "51e39532",
   "metadata": {},
   "source": [
    "### TF-IDF"
   ]
  },
  {
   "cell_type": "code",
   "execution_count": 12,
   "id": "d2e630e0",
   "metadata": {},
   "outputs": [],
   "source": [
    "def compute_tfidf(tf, idf):\n",
    "    tfidf = {}\n",
    "    for term in tf:\n",
    "        tfidf[term] = tf[term] * idf[term]\n",
    "    return tfidf"
   ]
  },
  {
   "cell_type": "code",
   "execution_count": 13,
   "id": "34762b4f",
   "metadata": {},
   "outputs": [
    {
     "name": "stdout",
     "output_type": "stream",
     "text": [
      "\n",
      "Document: doc1\n",
      "TF:      {'actor': 0.0, 'all': 0.0, 'amazing': 0.077, 'an': 0.0, 'and': 0.077, 'at': 0.0, 'average': 0.0, 'bad': 0.0, 'brilliant': 0.0, 'but': 0.0, 'by': 0.0, 'characters': 0.077, 'cinematography': 0.0, 'direction': 0.0, 'exciting': 0.077, 'fantastic': 0.0, 'film': 0.0, 'good': 0.0, 'i': 0.077, 'it': 0.0, 'lead': 0.0, 'loved': 0.077, 'moments': 0.0, 'movie': 0.077, 'not': 0.0, 'of': 0.0, 'overall': 0.0, 'performance': 0.0, 'plot': 0.077, 'poor': 0.0, 'predictable': 0.0, 'recommend': 0.0, 'script': 0.0, 'some': 0.0, 'terrible': 0.0, 'the': 0.154, 'this': 0.077, 'time': 0.0, 'was': 0.077, 'waste': 0.0, 'watching': 0.0, 'were': 0.077, 'worth': 0.0, 'would': 0.0}\n",
      "TF-IDF:  {'actor': 0.0, 'all': 0.0, 'amazing': 0.147, 'an': 0.0, 'and': 0.116, 'at': 0.0, 'average': 0.0, 'bad': 0.0, 'brilliant': 0.0, 'but': 0.0, 'by': 0.0, 'characters': 0.147, 'cinematography': 0.0, 'direction': 0.0, 'exciting': 0.147, 'fantastic': 0.0, 'film': 0.0, 'good': 0.0, 'i': 0.116, 'it': 0.0, 'lead': 0.0, 'loved': 0.147, 'moments': 0.0, 'movie': 0.116, 'not': 0.0, 'of': 0.0, 'overall': 0.0, 'performance': 0.0, 'plot': 0.147, 'poor': 0.0, 'predictable': 0.0, 'recommend': 0.0, 'script': 0.0, 'some': 0.0, 'terrible': 0.0, 'the': 0.232, 'this': 0.147, 'time': 0.0, 'was': 0.116, 'waste': 0.0, 'watching': 0.0, 'were': 0.147, 'worth': 0.0, 'would': 0.0}\n",
      "\n",
      "Document: doc2\n",
      "TF:      {'actor': 0.0, 'all': 0.0, 'amazing': 0.0, 'an': 0.0, 'and': 0.091, 'at': 0.0, 'average': 0.0, 'bad': 0.0, 'brilliant': 0.0, 'but': 0.0, 'by': 0.0, 'characters': 0.0, 'cinematography': 0.0, 'direction': 0.0, 'exciting': 0.0, 'fantastic': 0.0, 'film': 0.0, 'good': 0.0, 'i': 0.091, 'it': 0.091, 'lead': 0.0, 'loved': 0.0, 'moments': 0.0, 'movie': 0.091, 'not': 0.091, 'of': 0.091, 'overall': 0.0, 'performance': 0.0, 'plot': 0.0, 'poor': 0.0, 'predictable': 0.0, 'recommend': 0.091, 'script': 0.0, 'some': 0.0, 'terrible': 0.091, 'the': 0.0, 'this': 0.0, 'time': 0.091, 'was': 0.0, 'waste': 0.091, 'watching': 0.0, 'were': 0.0, 'worth': 0.0, 'would': 0.091}\n",
      "TF-IDF:  {'actor': 0.0, 'all': 0.0, 'amazing': 0.0, 'an': 0.0, 'and': 0.137, 'at': 0.0, 'average': 0.0, 'bad': 0.0, 'brilliant': 0.0, 'but': 0.0, 'by': 0.0, 'characters': 0.0, 'cinematography': 0.0, 'direction': 0.0, 'exciting': 0.0, 'fantastic': 0.0, 'film': 0.0, 'good': 0.0, 'i': 0.137, 'it': 0.137, 'lead': 0.0, 'loved': 0.0, 'moments': 0.0, 'movie': 0.137, 'not': 0.137, 'of': 0.174, 'overall': 0.0, 'performance': 0.0, 'plot': 0.0, 'poor': 0.0, 'predictable': 0.0, 'recommend': 0.174, 'script': 0.0, 'some': 0.0, 'terrible': 0.174, 'the': 0.0, 'this': 0.0, 'time': 0.174, 'was': 0.0, 'waste': 0.174, 'watching': 0.0, 'were': 0.0, 'worth': 0.0, 'would': 0.174}\n",
      "\n",
      "Document: doc3\n",
      "TF:      {'actor': 0.0, 'all': 0.0, 'amazing': 0.0, 'an': 0.091, 'and': 0.0, 'at': 0.0, 'average': 0.091, 'bad': 0.0, 'brilliant': 0.0, 'but': 0.091, 'by': 0.0, 'characters': 0.0, 'cinematography': 0.0, 'direction': 0.0, 'exciting': 0.0, 'fantastic': 0.0, 'film': 0.091, 'good': 0.091, 'i': 0.0, 'it': 0.091, 'lead': 0.0, 'loved': 0.0, 'moments': 0.091, 'movie': 0.0, 'not': 0.0, 'of': 0.0, 'overall': 0.091, 'performance': 0.0, 'plot': 0.0, 'poor': 0.0, 'predictable': 0.091, 'recommend': 0.0, 'script': 0.0, 'some': 0.091, 'terrible': 0.0, 'the': 0.0, 'this': 0.0, 'time': 0.0, 'was': 0.091, 'waste': 0.0, 'watching': 0.0, 'were': 0.0, 'worth': 0.0, 'would': 0.0}\n",
      "TF-IDF:  {'actor': 0.0, 'all': 0.0, 'amazing': 0.0, 'an': 0.174, 'and': 0.0, 'at': 0.0, 'average': 0.174, 'bad': 0.0, 'brilliant': 0.0, 'but': 0.174, 'by': 0.0, 'characters': 0.0, 'cinematography': 0.0, 'direction': 0.0, 'exciting': 0.0, 'fantastic': 0.0, 'film': 0.174, 'good': 0.174, 'i': 0.0, 'it': 0.137, 'lead': 0.0, 'loved': 0.0, 'moments': 0.174, 'movie': 0.0, 'not': 0.0, 'of': 0.0, 'overall': 0.174, 'performance': 0.0, 'plot': 0.0, 'poor': 0.0, 'predictable': 0.174, 'recommend': 0.0, 'script': 0.0, 'some': 0.174, 'terrible': 0.0, 'the': 0.0, 'this': 0.0, 'time': 0.0, 'was': 0.137, 'waste': 0.0, 'watching': 0.0, 'were': 0.0, 'worth': 0.0, 'would': 0.0}\n",
      "\n",
      "Document: doc4\n",
      "TF:      {'actor': 0.125, 'all': 0.0, 'amazing': 0.0, 'an': 0.0, 'and': 0.0, 'at': 0.0, 'average': 0.0, 'bad': 0.0, 'brilliant': 0.125, 'but': 0.0, 'by': 0.125, 'characters': 0.0, 'cinematography': 0.125, 'direction': 0.0, 'exciting': 0.0, 'fantastic': 0.125, 'film': 0.0, 'good': 0.0, 'i': 0.0, 'it': 0.0, 'lead': 0.125, 'loved': 0.0, 'moments': 0.0, 'movie': 0.0, 'not': 0.0, 'of': 0.0, 'overall': 0.0, 'performance': 0.125, 'plot': 0.0, 'poor': 0.0, 'predictable': 0.0, 'recommend': 0.0, 'script': 0.0, 'some': 0.0, 'terrible': 0.0, 'the': 0.125, 'this': 0.0, 'time': 0.0, 'was': 0.0, 'waste': 0.0, 'watching': 0.0, 'were': 0.0, 'worth': 0.0, 'would': 0.0}\n",
      "TF-IDF:  {'actor': 0.24, 'all': 0.0, 'amazing': 0.0, 'an': 0.0, 'and': 0.0, 'at': 0.0, 'average': 0.0, 'bad': 0.0, 'brilliant': 0.24, 'but': 0.0, 'by': 0.24, 'characters': 0.0, 'cinematography': 0.24, 'direction': 0.0, 'exciting': 0.0, 'fantastic': 0.24, 'film': 0.0, 'good': 0.0, 'i': 0.0, 'it': 0.0, 'lead': 0.24, 'loved': 0.0, 'moments': 0.0, 'movie': 0.0, 'not': 0.0, 'of': 0.0, 'overall': 0.0, 'performance': 0.24, 'plot': 0.0, 'poor': 0.0, 'predictable': 0.0, 'recommend': 0.0, 'script': 0.0, 'some': 0.0, 'terrible': 0.0, 'the': 0.189, 'this': 0.0, 'time': 0.0, 'was': 0.0, 'waste': 0.0, 'watching': 0.0, 'were': 0.0, 'worth': 0.0, 'would': 0.0}\n",
      "\n",
      "Document: doc5\n",
      "TF:      {'actor': 0.0, 'all': 0.111, 'amazing': 0.0, 'an': 0.0, 'and': 0.0, 'at': 0.111, 'average': 0.0, 'bad': 0.111, 'brilliant': 0.0, 'but': 0.0, 'by': 0.0, 'characters': 0.0, 'cinematography': 0.0, 'direction': 0.111, 'exciting': 0.0, 'fantastic': 0.0, 'film': 0.0, 'good': 0.0, 'i': 0.0, 'it': 0.0, 'lead': 0.0, 'loved': 0.0, 'moments': 0.0, 'movie': 0.0, 'not': 0.111, 'of': 0.0, 'overall': 0.0, 'performance': 0.0, 'plot': 0.0, 'poor': 0.111, 'predictable': 0.0, 'recommend': 0.0, 'script': 0.111, 'some': 0.0, 'terrible': 0.0, 'the': 0.0, 'this': 0.0, 'time': 0.0, 'was': 0.0, 'waste': 0.0, 'watching': 0.111, 'were': 0.0, 'worth': 0.111, 'would': 0.0}\n",
      "TF-IDF:  {'actor': 0.0, 'all': 0.213, 'amazing': 0.0, 'an': 0.0, 'and': 0.0, 'at': 0.213, 'average': 0.0, 'bad': 0.213, 'brilliant': 0.0, 'but': 0.0, 'by': 0.0, 'characters': 0.0, 'cinematography': 0.0, 'direction': 0.213, 'exciting': 0.0, 'fantastic': 0.0, 'film': 0.0, 'good': 0.0, 'i': 0.0, 'it': 0.0, 'lead': 0.0, 'loved': 0.0, 'moments': 0.0, 'movie': 0.0, 'not': 0.168, 'of': 0.0, 'overall': 0.0, 'performance': 0.0, 'plot': 0.0, 'poor': 0.213, 'predictable': 0.0, 'recommend': 0.0, 'script': 0.213, 'some': 0.0, 'terrible': 0.0, 'the': 0.0, 'this': 0.0, 'time': 0.0, 'was': 0.0, 'waste': 0.0, 'watching': 0.213, 'were': 0.0, 'worth': 0.213, 'would': 0.0}\n"
     ]
    }
   ],
   "source": [
    "# Compute IDF once for all docs\n",
    "idf = compute_idf(preprocessed_docs, vocab)\n",
    "\n",
    "# For each document, compute TF and TF-IDF\n",
    "for name, tokens in preprocessed_docs.items():\n",
    "    tf = compute_tf(tokens, vocab)\n",
    "    tfidf = compute_tfidf(tf, idf)\n",
    "\n",
    "    print(f\"\\nDocument: {name}\")\n",
    "    print(\"TF:     \", {k: round(v, 3) for k, v in tf.items()})\n",
    "    print(\"TF-IDF: \", {k: round(v, 3) for k, v in tfidf.items()})"
   ]
  },
  {
   "cell_type": "markdown",
   "id": "18f2a928",
   "metadata": {},
   "source": [
    "### Cosine Similarity\n"
   ]
  },
  {
   "cell_type": "code",
   "execution_count": 14,
   "id": "53d9d0c6",
   "metadata": {},
   "outputs": [
    {
     "name": "stdout",
     "output_type": "stream",
     "text": [
      "Vocabulary: ['actor', 'all', 'amazing', 'an', 'and', 'at', 'average', 'bad', 'brilliant', 'but', 'by', 'characters', 'cinematography', 'direction', 'exciting', 'fantastic', 'film', 'good', 'i', 'it', 'lead', 'loved', 'moments', 'movie', 'not', 'of', 'overall', 'performance', 'plot', 'poor', 'predictable', 'recommend', 'script', 'some', 'terrible', 'the', 'this', 'time', 'was', 'waste', 'watching', 'were', 'worth', 'would']\n"
     ]
    }
   ],
   "source": [
    "# Sample movie review documents\n",
    "documents = [\n",
    "    \"I loved this movie the plot was exciting and the characters were amazing\",\n",
    "    \"Terrible movie waste of time and I would not recommend it\",\n",
    "    \"An average film some good moments but overall it was predictable\",\n",
    "    \"Fantastic performance by the lead actor brilliant cinematography\",\n",
    "    \"Bad script poor direction not worth watching at all\",\n",
    "]\n",
    "\n",
    "# Build vocabulary (unique words in all documents)\n",
    "def build_vocab(docs):\n",
    "    vocab_set = set()\n",
    "    for doc in docs:\n",
    "        vocab_set.update(doc.lower().split())  # lowercase + split\n",
    "    return sorted(vocab_set)\n",
    "\n",
    "vocab = build_vocab(documents)\n",
    "print(\"Vocabulary:\", vocab)\n"
   ]
  },
  {
   "cell_type": "code",
   "execution_count": 15,
   "id": "097ef2c3",
   "metadata": {},
   "outputs": [],
   "source": [
    "# Create Bag of Words vector for a document\n",
    "def bow_vector(doc, vocab):\n",
    "    words = doc.split()\n",
    "    return [words.count(term) for term in vocab]"
   ]
  },
  {
   "cell_type": "code",
   "execution_count": 16,
   "id": "373155a8",
   "metadata": {},
   "outputs": [
    {
     "name": "stdout",
     "output_type": "stream",
     "text": [
      "\n",
      "BoW Vector for Document 1: [0, 0, 1, 0, 1, 0, 0, 0, 0, 0, 0, 1, 0, 0, 1, 0, 0, 0, 0, 0, 0, 1, 0, 1, 0, 0, 0, 0, 1, 0, 0, 0, 0, 0, 0, 2, 1, 0, 1, 0, 0, 1, 0, 0]\n",
      "BoW Vector for Document 2: [0, 0, 0, 0, 1, 0, 0, 0, 0, 0, 0, 0, 0, 0, 0, 0, 0, 0, 0, 1, 0, 0, 0, 1, 1, 1, 0, 0, 0, 0, 0, 1, 0, 0, 0, 0, 0, 1, 0, 1, 0, 0, 0, 1]\n",
      "Cosine Similarity between Doc1 and Doc2: 0.1782\n"
     ]
    }
   ],
   "source": [
    "# Compute cosine similarity between two vectors\n",
    "def cosine_similarity(vec1, vec2):\n",
    "    dot_product = sum(a * b for a, b in zip(vec1, vec2))\n",
    "    magnitude1 = math.sqrt(sum(a * a for a in vec1))\n",
    "    magnitude2 = math.sqrt(sum(b * b for b in vec2))\n",
    "    if magnitude1 == 0 or magnitude2 == 0:\n",
    "        return 0.0\n",
    "    return dot_product / (magnitude1 * magnitude2)\n",
    "\n",
    "\n",
    "# Create BoW vectors for all documents\n",
    "vectors = [bow_vector(doc, vocab) for doc in documents]\n",
    "\n",
    "# Compute similarity between first and second documents\n",
    "similarity = cosine_similarity(vectors[0], vectors[1])\n",
    "\n",
    "print(\"\\nBoW Vector for Document 1:\", vectors[0])\n",
    "print(\"BoW Vector for Document 2:\", vectors[1])\n",
    "print(\"Cosine Similarity between Doc1 and Doc2:\", round(similarity, 4))"
   ]
  }
 ],
 "metadata": {
  "kernelspec": {
   "display_name": "venv",
   "language": "python",
   "name": "python3"
  },
  "language_info": {
   "codemirror_mode": {
    "name": "ipython",
    "version": 3
   },
   "file_extension": ".py",
   "mimetype": "text/x-python",
   "name": "python",
   "nbconvert_exporter": "python",
   "pygments_lexer": "ipython3",
   "version": "3.13.2"
  }
 },
 "nbformat": 4,
 "nbformat_minor": 5
}
